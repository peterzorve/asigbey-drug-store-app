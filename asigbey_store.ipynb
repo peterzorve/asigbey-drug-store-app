{
 "cells": [
  {
   "attachments": {},
   "cell_type": "markdown",
   "metadata": {},
   "source": [
    "### All Imports"
   ]
  },
  {
   "cell_type": "code",
   "execution_count": 1,
   "metadata": {},
   "outputs": [],
   "source": [
    "import pandas as pd \n",
    "import sqlite3 as sq "
   ]
  },
  {
   "attachments": {},
   "cell_type": "markdown",
   "metadata": {},
   "source": [
    "### Create General Class"
   ]
  },
  {
   "cell_type": "code",
   "execution_count": 2,
   "metadata": {},
   "outputs": [
    {
     "name": "stdout",
     "output_type": "stream",
     "text": [
      "Table created successfully\n"
     ]
    }
   ],
   "source": [
    "\n",
    "\n",
    "class AsigbeyStore():\n",
    "    # def __init__(self):\n",
    "    #     pass \n",
    "\n",
    "    # def create_database(self):\n",
    "    def __init__(self):\n",
    "        connection = sq.connect('asigbey_database.db')\n",
    "        connection.execute(\"\"\" CREATE TABLE IF NOT EXISTS parent_databse \n",
    "                                (\n",
    "                                    id                 INTEGER PRIMARY KEY AUTOINCREMENT,\n",
    "                                    date_register      CURRENT_TIMESTAMP, \n",
    "                                    firstname          TEXT NOT NULL, \n",
    "                                    surname            TEXT NOT NULL, \n",
    "                                    phone              INT  NOT NULL, \n",
    "                                    email              CHAR(120), \n",
    "                                    date_of_birth      DATETIME,     \n",
    "                                    password1          TEXT NOT NULL\n",
    "                                );  \n",
    "                            \"\"\"\n",
    "                           )\n",
    "        \n",
    "        connection.execute(\"\"\" CREATE TABLE IF NOT EXISTS medicine_statatics\n",
    "                                (\n",
    "                                    id                 INTEGER PRIMARY KEY AUTOINCREMENT,\n",
    "                                    medicine_name      TEXT NOT NULL, \n",
    "                                    code               TEXT NOT NULL, \n",
    "                                    quantity           TEXT NOT NULL, \n",
    "                                    buying_price       INT NOT NULL, \n",
    "                                    selling_price      INT NOT NULL,  \n",
    "                                    profit             INT NOT NULL,   \n",
    "                                    expiring_date      TEXT NOT NULL\n",
    "                                );  \n",
    "                            \"\"\"\n",
    "                    )\n",
    "        \n",
    "        connection.execute(\"\"\" CREATE TABLE IF NOT EXISTS user_data \n",
    "                                (\n",
    "                                    id                 INTEGER PRIMARY KEY AUTOINCREMENT,\n",
    "                                    date_register      CURRENT_TIMESTAMP, \n",
    "                                    firstname          TEXT NOT NULL, \n",
    "                                    surname            TEXT NOT NULL, \n",
    "                                    phone              TEXT NOT NULL,     \n",
    "                                    password           TEXT NOT NULL\n",
    "                                );  \n",
    "                            \"\"\"\n",
    "                    )\n",
    "        \n",
    "\n",
    "        connection.execute(\"\"\" CREATE TABLE IF NOT EXISTS transaction_history  \n",
    "                                (\n",
    "                                    id                 INTEGER PRIMARY KEY AUTOINCREMENT,\n",
    "                                    date_register      CURRENT_TIMESTAMP, \n",
    "                                    sold_by            TEXT NOT NULL, \n",
    "                                    customer           TEXT NOT NULL, \n",
    "                                    medicine           TEXT NOT NULL,     \n",
    "                                    quantity           TEXT NOT NULL, \n",
    "                                    profit_per_sale    TEXT NOT NULL, \n",
    "                                    total_profit       TEXT NOT NULL\n",
    "                                );  \n",
    "                            \"\"\"\n",
    "                    )       \n",
    "        \n",
    "        connection.close()\n",
    "\n",
    "        print(\"Table created successfully\")\n",
    "        # pass\n",
    "\n",
    "    def dash_board(self):\n",
    "        pass \n",
    "\n",
    "    def medicine_type(self):\n",
    "        pass \n",
    "\n",
    "    def medicine_volume(self):\n",
    "        pass \n",
    "\n",
    "\n",
    "\n",
    "#   ============================   ADD USER    ================================================\n",
    "\n",
    "    def add_user(self, firstname, surname, phone, password):\n",
    "        text = \"Could not signup: Check your internet connection, or Try later\"\n",
    "        connection = sq.connect('asigbey_database.db')\n",
    "        all_users = pd.read_sql_query(\"SELECT phone FROM user_data\", connection)\n",
    "\n",
    "        print(all_users)\n",
    "        print([phone_ for phone_ in all_users['phone']])\n",
    "\n",
    "        if phone in [phone_ for phone_ in all_users['phone']]:\n",
    "            text = \"You have already registered.\"\n",
    "\n",
    "        if phone not in [phone_ for phone_ in all_users['phone']]:\n",
    "            gen_login_code = str(firstname[0:3]) + '-' + str(surname[0:3])\n",
    "            connection = sq.connect(\"asigbey_database.db\")\n",
    "            connection.execute(f\"\"\" INSERT INTO user_data (date_register, firstname,     surname,     phone,     password) VALUES \n",
    "                                    (CURRENT_TIMESTAMP, '                 {firstname}', '{surname}', '{phone}', '{password}')\"\"\")    \n",
    "            connection.commit()\n",
    "            connection.close()\n",
    "            text = \"User added SUCCESSFUL\" \n",
    "        return text \n",
    "\n",
    "\n",
    " #  ========================   SHOW USER INFORMATION  ================================================\n",
    "\n",
    "    def show_users_information(self, user_firstname=\"all\"):\n",
    "        if user_firstname == \"all\":\n",
    "            connection = sq.connect(\"asigbey_database.db\")\n",
    "            user_table = pd.read_sql_query(f\"SELECT * FROM user_data\", connection)\n",
    "            user = '*'\n",
    "        else:\n",
    "            user = user_firstname\n",
    "            connection = sq.connect(\"asigbey_database.db\")\n",
    "            user_table = pd.read_sql_query(f\"SELECT * FROM user_data WHERE firstname='{user}'\", connection)\n",
    "        return user_table\n",
    "    \n",
    "\n",
    "#   ============================   SHOW MEDICINE STATISTICS    =======================================\n",
    "\n",
    "    def show_medicine_stats(self, medicine_code=\"all\"):\n",
    "        if medicine_code == \"all\":\n",
    "            connection = sq.connect(\"asigbey_database.db\")\n",
    "            medicine_table = pd.read_sql_query(f\"SELECT * FROM medicine_statatics\", connection)\n",
    "        else: \n",
    "            connection = sq.connect(\"asigbey_database.db\")\n",
    "            medicine_table = pd.read_sql_query(f\"SELECT * FROM medicine_statatics WHERE code='{medicine_code}'\", connection)\n",
    "        return medicine_table \n",
    "\n",
    "\n",
    "#   ============================   ADD MEDICINE     ================================================\n",
    "\n",
    "    def add_medicine(self, medicine_name, code, quantity, buying_price, selling_price, expiring_date):\n",
    "        connection = sq.connect(\"asigbey_database.db\")\n",
    "\n",
    "        medicine_data = pd.read_sql_query(f\"SELECT * FROM medicine_statatics\", connection)\n",
    "\n",
    "        medicine_code_list = [code_.lower().strip() for code_ in medicine_data['code']]\n",
    "\n",
    "        code = str(code.lower().strip())\n",
    "\n",
    "        if code in medicine_code_list:\n",
    "            print(\"Yes\") \n",
    "            medicine_data = pd.read_sql_query(f\"SELECT * FROM medicine_statatics WHERE code='{code}'\", connection)\n",
    "            print(medicine_data)\n",
    "\n",
    "            # previous_medicine_name   = medicine_data[\"medicine_name\"][0]\n",
    "            # previous_code            = medicine_data[\"code\"][0]\n",
    "            previous_quantity        = int(medicine_data[\"quantity\"][0]) \n",
    "            previous_buying_price    = float(medicine_data[\"buying_price\"][0]) \n",
    "            previous_selling_price   = float(medicine_data[\"selling_price\"][0])\n",
    "            # previous_expiring_date   = medicine_data[\"expiring_date\"][0]\n",
    "\n",
    "            quantity = quantity + previous_quantity\n",
    "\n",
    "            if int(buying_price) != previous_buying_price:\n",
    "                buying_price = buying_price\n",
    "            \n",
    "            if int(selling_price) != previous_selling_price:\n",
    "                selling_price = previous_selling_price\n",
    "            \n",
    "            profit_ = (int(selling_price) - int(buying_price)) * int(quantity)\n",
    "            connection = sq.connect(\"asigbey_database.db\")\n",
    "            connection.execute(f\"UPDATE medicine_statatics SET quantity = '{quantity}', buying_price = '{buying_price}', selling_price = '{selling_price}', profit = '{profit_}'   WHERE code = '{code}';\") \n",
    "            connection.commit()\n",
    "            connection.close()\n",
    "\n",
    "        else:\n",
    "            print(\"No\")\n",
    "            profit_ = (int(selling_price) - int(buying_price)) * int(quantity)\n",
    "            connection = sq.connect(\"asigbey_database.db\")\n",
    "            connection.execute(f\"\"\" INSERT INTO medicine_statatics (medicine_name,     code,     quantity,     buying_price,     selling_price,     profit,     expiring_date)  VALUES \n",
    "                                    (                             '{medicine_name}', '{code}', '{quantity}', '{buying_price}', '{selling_price}', '{profit_}', '{expiring_date}')\"\"\") \n",
    "            connection.commit()\n",
    "            connection.close()\n",
    "\n",
    "        print(\"Medicine added SUCCESSFULLY\")\n",
    "\n",
    "\n",
    "    def transactions_history(self):\n",
    "        pass \n",
    "\n",
    "    def new_transaction(self):\n",
    "\n",
    "        pass \n",
    "\n",
    "    def sales_report(self):\n",
    "        pass \n",
    "\n",
    "    def expired_medicine(self, date):\n",
    "        connection = sq.connect(\"asigbey_database.db\")\n",
    "        medicine_table = pd.read_sql_query(f\"SELECT * FROM medicine_statatics WHERE code='{date}'\", connection)\n",
    "\n",
    "        return medicine_table\n",
    "\n",
    "    def stock_value(self):\n",
    "        pass \n",
    "\n",
    "    def expenditure(self):\n",
    "        pass \n",
    "\n",
    "    def back_up(self):\n",
    "        pass \n",
    "\n",
    "\n",
    " \n",
    "asigbey_store = AsigbeyStore()\n",
    "# asigbey_store.add_medicine(medicine_name=\"nana bitters\", code='peter3', quantity=100, buying_price=10, selling_price=20, expiring_date=\"yesterday\")\n",
    "# asigbey_store.show_medicine_stats(medicine_code=\"peter\")\n",
    "\n",
    "# print(asigbey_store.expired_medicine(date=\"yesterday\"))"
   ]
  },
  {
   "attachments": {},
   "cell_type": "markdown",
   "metadata": {},
   "source": [
    "### Show Medicine Statistics"
   ]
  },
  {
   "cell_type": "code",
   "execution_count": 3,
   "metadata": {},
   "outputs": [
    {
     "name": "stdout",
     "output_type": "stream",
     "text": [
      "Table created successfully\n"
     ]
    },
    {
     "data": {
      "text/html": [
       "<div>\n",
       "<style scoped>\n",
       "    .dataframe tbody tr th:only-of-type {\n",
       "        vertical-align: middle;\n",
       "    }\n",
       "\n",
       "    .dataframe tbody tr th {\n",
       "        vertical-align: top;\n",
       "    }\n",
       "\n",
       "    .dataframe thead th {\n",
       "        text-align: right;\n",
       "    }\n",
       "</style>\n",
       "<table border=\"1\" class=\"dataframe\">\n",
       "  <thead>\n",
       "    <tr style=\"text-align: right;\">\n",
       "      <th></th>\n",
       "      <th>id</th>\n",
       "      <th>medicine_name</th>\n",
       "      <th>code</th>\n",
       "      <th>quantity</th>\n",
       "      <th>buying_price</th>\n",
       "      <th>selling_price</th>\n",
       "      <th>profit</th>\n",
       "      <th>expiring_date</th>\n",
       "    </tr>\n",
       "  </thead>\n",
       "  <tbody>\n",
       "  </tbody>\n",
       "</table>\n",
       "</div>"
      ],
      "text/plain": [
       "Empty DataFrame\n",
       "Columns: [id, medicine_name, code, quantity, buying_price, selling_price, profit, expiring_date]\n",
       "Index: []"
      ]
     },
     "execution_count": 3,
     "metadata": {},
     "output_type": "execute_result"
    }
   ],
   "source": [
    "add_user = AsigbeyStore()\n",
    "add_user.show_medicine_stats(medicine_code=\"aduro\")"
   ]
  },
  {
   "attachments": {},
   "cell_type": "markdown",
   "metadata": {},
   "source": [
    "### Add Medicine "
   ]
  },
  {
   "cell_type": "code",
   "execution_count": 7,
   "metadata": {},
   "outputs": [
    {
     "name": "stdout",
     "output_type": "stream",
     "text": [
      "Table created successfully\n",
      "Yes\n",
      "   id medicine_name   code quantity  buying_price  selling_price  profit  \\\n",
      "0   1  nana bitters  aduro       30            10             20     300   \n",
      "\n",
      "  expiring_date  \n",
      "0     next week  \n",
      "Medicine added SUCCESSFULLY\n"
     ]
    }
   ],
   "source": [
    "add_user = AsigbeyStore()\n",
    "add_user.add_medicine(medicine_name=\"nana bitters\", code='aduro', quantity=10, buying_price=10, selling_price=20, expiring_date=\"next week\")"
   ]
  },
  {
   "attachments": {},
   "cell_type": "markdown",
   "metadata": {},
   "source": [
    "### Show User Information"
   ]
  },
  {
   "cell_type": "code",
   "execution_count": 8,
   "metadata": {},
   "outputs": [
    {
     "name": "stdout",
     "output_type": "stream",
     "text": [
      "Table created successfully\n"
     ]
    },
    {
     "data": {
      "text/html": [
       "<div>\n",
       "<style scoped>\n",
       "    .dataframe tbody tr th:only-of-type {\n",
       "        vertical-align: middle;\n",
       "    }\n",
       "\n",
       "    .dataframe tbody tr th {\n",
       "        vertical-align: top;\n",
       "    }\n",
       "\n",
       "    .dataframe thead th {\n",
       "        text-align: right;\n",
       "    }\n",
       "</style>\n",
       "<table border=\"1\" class=\"dataframe\">\n",
       "  <thead>\n",
       "    <tr style=\"text-align: right;\">\n",
       "      <th></th>\n",
       "      <th>id</th>\n",
       "      <th>date_register</th>\n",
       "      <th>firstname</th>\n",
       "      <th>surname</th>\n",
       "      <th>phone</th>\n",
       "      <th>password</th>\n",
       "    </tr>\n",
       "  </thead>\n",
       "  <tbody>\n",
       "  </tbody>\n",
       "</table>\n",
       "</div>"
      ],
      "text/plain": [
       "Empty DataFrame\n",
       "Columns: [id, date_register, firstname, surname, phone, password]\n",
       "Index: []"
      ]
     },
     "execution_count": 8,
     "metadata": {},
     "output_type": "execute_result"
    }
   ],
   "source": [
    "add_user = AsigbeyStore()\n",
    "add_user.show_users_information(user_firstname=\"name\")"
   ]
  },
  {
   "attachments": {},
   "cell_type": "markdown",
   "metadata": {},
   "source": [
    "### Add User "
   ]
  },
  {
   "cell_type": "code",
   "execution_count": 9,
   "metadata": {},
   "outputs": [
    {
     "name": "stdout",
     "output_type": "stream",
     "text": [
      "Table created successfully\n",
      "Empty DataFrame\n",
      "Columns: [phone]\n",
      "Index: []\n",
      "[]\n",
      "User added SUCCESSFUL\n"
     ]
    }
   ],
   "source": [
    "add_user = AsigbeyStore()\n",
    "\n",
    "print(add_user.add_user(firstname=\"name\", surname=\"zorve\", phone=\"0000\", password=\"1234\"))"
   ]
  },
  {
   "attachments": {},
   "cell_type": "markdown",
   "metadata": {},
   "source": []
  },
  {
   "cell_type": "code",
   "execution_count": null,
   "metadata": {},
   "outputs": [],
   "source": []
  },
  {
   "cell_type": "code",
   "execution_count": 10,
   "metadata": {},
   "outputs": [],
   "source": [
    "class Payment():\n",
    "    def __init__(self, price):\n",
    "        self.price = price  + (0.25 * price)\n",
    "\n",
    "    def calculate_discount(self, discount):\n",
    "        return self.price - (self.price * (discount/100))\n",
    "\n",
    "    def get_price(self):\n",
    "        return self.price \n",
    "\n",
    "    def final_price(self, discount):\n",
    "        return  self.calculate_discount(discount)"
   ]
  },
  {
   "cell_type": "code",
   "execution_count": 11,
   "metadata": {},
   "outputs": [
    {
     "name": "stdout",
     "output_type": "stream",
     "text": [
      "Table created successfully\n"
     ]
    }
   ],
   "source": [
    "connection = sq.connect('asigbey_database.db')\n",
    "\n",
    "connection.execute(\"\"\" CREATE TABLE IF NOT EXISTS parent_databse \n",
    "                 (\n",
    "                    id                 INTEGER PRIMARY KEY AUTOINCREMENT,\n",
    "                    date_register      CURRENT_TIMESTAMP, \n",
    "                    firstname          TEXT NOT NULL, \n",
    "                    surname            TEXT NOT NULL, \n",
    "                    phone              INT  NOT NULL, \n",
    "                    email              CHAR(120), \n",
    "                    date_of_birth      DATETIME,     \n",
    "                    password1          TEXT NOT NULL\n",
    "                 );  \"\"\")\n",
    "\n",
    "print(\"Table created successfully\")"
   ]
  },
  {
   "cell_type": "code",
   "execution_count": null,
   "metadata": {},
   "outputs": [],
   "source": [
    "location = 'data'\n",
    "table_name = 'table_name'\n",
    "\n",
    "def init():    \n",
    "    global conn\n",
    "    global c\n",
    "    conn = sqlite3.connect(location)\n",
    "    c = conn.cursor()\n",
    "    create_database()\n",
    "\n",
    "def create_database():\n",
    "    sql = 'create table if not exists ' + table_name + ' (id integer)'\n",
    "    c.execute(sql)\n",
    "    conn.commit()\n",
    "\n",
    "def create_database2():\n",
    "    sql = 'create table ' + table_name + '(id integer)'\n",
    "    c.execute(sql)\n",
    "    conn.commit()\n",
    "\n",
    "def clear_database():\n",
    "    sql = 'drop table ' + table_name\n",
    "    c.execute(sql)\n",
    "    conn.commit()\n",
    "\n",
    "def remake():\n",
    "    clear_database()\n",
    "    create_database() # Replacing this with create_database2() works every time\n",
    "    insert_record(1)\n",
    "    conn.commit()\n",
    "\n",
    "def insert_record(id):\n",
    "    sql = 'insert into ' + table_name + ' (id) values (%d)' % (id)\n",
    "    c.execute(sql)\n",
    "    print 'Inserted ', id\n",
    "\n",
    "init()\n",
    "remake()"
   ]
  },
  {
   "cell_type": "code",
   "execution_count": null,
   "metadata": {},
   "outputs": [],
   "source": []
  },
  {
   "cell_type": "code",
   "execution_count": null,
   "metadata": {},
   "outputs": [],
   "source": []
  },
  {
   "cell_type": "code",
   "execution_count": null,
   "metadata": {},
   "outputs": [],
   "source": []
  },
  {
   "cell_type": "code",
   "execution_count": null,
   "metadata": {},
   "outputs": [],
   "source": []
  },
  {
   "cell_type": "code",
   "execution_count": null,
   "metadata": {},
   "outputs": [],
   "source": []
  },
  {
   "cell_type": "code",
   "execution_count": null,
   "metadata": {},
   "outputs": [],
   "source": []
  },
  {
   "cell_type": "code",
   "execution_count": null,
   "metadata": {},
   "outputs": [],
   "source": []
  },
  {
   "cell_type": "code",
   "execution_count": null,
   "metadata": {},
   "outputs": [],
   "source": []
  },
  {
   "cell_type": "code",
   "execution_count": null,
   "metadata": {},
   "outputs": [],
   "source": []
  }
 ],
 "metadata": {
  "kernelspec": {
   "display_name": "deeplearning",
   "language": "python",
   "name": "python3"
  },
  "language_info": {
   "codemirror_mode": {
    "name": "ipython",
    "version": 3
   },
   "file_extension": ".py",
   "mimetype": "text/x-python",
   "name": "python",
   "nbconvert_exporter": "python",
   "pygments_lexer": "ipython3",
   "version": "3.8.13"
  },
  "orig_nbformat": 4
 },
 "nbformat": 4,
 "nbformat_minor": 2
}
